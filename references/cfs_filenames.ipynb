{
 "cells": [
  {
   "cell_type": "markdown",
   "metadata": {},
   "source": [
    "# Unique filenames for Climate Forecast System (CFS)\n",
    "\n",
    "[NCEP Description](https://www.nco.ncep.noaa.gov/pmb/products/cfs/)"
   ]
  },
  {
   "cell_type": "code",
   "execution_count": 39,
   "metadata": {},
   "outputs": [
    {
     "data": {
      "text/html": [
       "<div><style>\n",
       ".dataframe > thead > tr,\n",
       ".dataframe > tbody > tr {\n",
       "  text-align: right;\n",
       "  white-space: pre-wrap;\n",
       "}\n",
       "</style>\n",
       "<small>shape: (91, 1)</small><table border=\"1\" class=\"dataframe\"><thead><tr><th>filename</th></tr><tr><td>str</td></tr></thead><tbody><tr><td>&quot;chi200.01.2024122906.daily.grb…</td></tr><tr><td>&quot;chi850.01.2024122906.daily.grb…</td></tr><tr><td>&quot;cprat.01.2024122906.daily.grb2&quot;</td></tr><tr><td>&quot;csdlf.01.2024122906.daily.grb2&quot;</td></tr><tr><td>&quot;csdsf.01.2024122906.daily.grb2&quot;</td></tr><tr><td>&hellip;</td></tr><tr><td>&quot;z200.01.2024122906.daily.grb2&quot;</td></tr><tr><td>&quot;z500.01.2024122906.daily.grb2&quot;</td></tr><tr><td>&quot;z700.01.2024122906.daily.grb2&quot;</td></tr><tr><td>&quot;z850.01.2024122906.daily.grb2&quot;</td></tr><tr><td>&quot;z1000.01.2024122906.daily.grb2&quot;</td></tr></tbody></table></div>"
      ],
      "text/plain": [
       "shape: (91, 1)\n",
       "┌─────────────────────────────────┐\n",
       "│ filename                        │\n",
       "│ ---                             │\n",
       "│ str                             │\n",
       "╞═════════════════════════════════╡\n",
       "│ chi200.01.2024122906.daily.grb… │\n",
       "│ chi850.01.2024122906.daily.grb… │\n",
       "│ cprat.01.2024122906.daily.grb2  │\n",
       "│ csdlf.01.2024122906.daily.grb2  │\n",
       "│ csdsf.01.2024122906.daily.grb2  │\n",
       "│ …                               │\n",
       "│ z200.01.2024122906.daily.grb2   │\n",
       "│ z500.01.2024122906.daily.grb2   │\n",
       "│ z700.01.2024122906.daily.grb2   │\n",
       "│ z850.01.2024122906.daily.grb2   │\n",
       "│ z1000.01.2024122906.daily.grb2  │\n",
       "└─────────────────────────────────┘"
      ]
     },
     "execution_count": 39,
     "metadata": {},
     "output_type": "execute_result"
    }
   ],
   "source": [
    "import requests\n",
    "from bs4 import BeautifulSoup\n",
    "import polars as pl\n",
    "\n",
    "# URL of the web directory\n",
    "url = \"https://nomads.ncep.noaa.gov/pub/data/nccf/com/cfs/prod/cfs.20241229/06/time_grib_01/\"\n",
    "\n",
    "# Step 1: Fetch the directory listing\n",
    "response = requests.get(url)\n",
    "response.raise_for_status()  # Raise an error if the request failed\n",
    "\n",
    "# Step 2: Parse the HTML content\n",
    "soup = BeautifulSoup(response.text)\n",
    "\n",
    "# Step 3: Extract file names and additional metadata if available\n",
    "files = []\n",
    "for link in soup.find_all(\"a\"):\n",
    "    href = link.get(\"href\")\n",
    "    if href and not href.startswith(\"?\") and not href.endswith(\"/\"):\n",
    "        files.append({\"filename\": href})\n",
    "\n",
    "# Step 4: Convert to a Polars DataFrame\n",
    "df = pl.DataFrame(files)\n",
    "\n",
    "# Only grib files (not index files)\n",
    "df = df.filter(pl.col(\"filename\").str.ends_with(\".grb2\"))\n",
    "\n",
    "df"
   ]
  },
  {
   "cell_type": "code",
   "execution_count": 50,
   "metadata": {},
   "outputs": [
    {
     "data": {
      "text/html": [
       "<div><style>\n",
       ".dataframe > thead > tr,\n",
       ".dataframe > tbody > tr {\n",
       "  text-align: right;\n",
       "  white-space: pre-wrap;\n",
       "}\n",
       "</style>\n",
       "<small>shape: (91, 5)</small><table border=\"1\" class=\"dataframe\"><thead><tr><th>a</th><th>b</th><th>c</th><th>d</th><th>e</th></tr><tr><td>str</td><td>str</td><td>str</td><td>str</td><td>str</td></tr></thead><tbody><tr><td>&quot;chi200&quot;</td><td>&quot;01&quot;</td><td>&quot;2024122906&quot;</td><td>&quot;daily&quot;</td><td>&quot;grb2&quot;</td></tr><tr><td>&quot;chi850&quot;</td><td>&quot;01&quot;</td><td>&quot;2024122906&quot;</td><td>&quot;daily&quot;</td><td>&quot;grb2&quot;</td></tr><tr><td>&quot;cprat&quot;</td><td>&quot;01&quot;</td><td>&quot;2024122906&quot;</td><td>&quot;daily&quot;</td><td>&quot;grb2&quot;</td></tr><tr><td>&quot;csdlf&quot;</td><td>&quot;01&quot;</td><td>&quot;2024122906&quot;</td><td>&quot;daily&quot;</td><td>&quot;grb2&quot;</td></tr><tr><td>&quot;csdsf&quot;</td><td>&quot;01&quot;</td><td>&quot;2024122906&quot;</td><td>&quot;daily&quot;</td><td>&quot;grb2&quot;</td></tr><tr><td>&hellip;</td><td>&hellip;</td><td>&hellip;</td><td>&hellip;</td><td>&hellip;</td></tr><tr><td>&quot;z200&quot;</td><td>&quot;01&quot;</td><td>&quot;2024122906&quot;</td><td>&quot;daily&quot;</td><td>&quot;grb2&quot;</td></tr><tr><td>&quot;z500&quot;</td><td>&quot;01&quot;</td><td>&quot;2024122906&quot;</td><td>&quot;daily&quot;</td><td>&quot;grb2&quot;</td></tr><tr><td>&quot;z700&quot;</td><td>&quot;01&quot;</td><td>&quot;2024122906&quot;</td><td>&quot;daily&quot;</td><td>&quot;grb2&quot;</td></tr><tr><td>&quot;z850&quot;</td><td>&quot;01&quot;</td><td>&quot;2024122906&quot;</td><td>&quot;daily&quot;</td><td>&quot;grb2&quot;</td></tr><tr><td>&quot;z1000&quot;</td><td>&quot;01&quot;</td><td>&quot;2024122906&quot;</td><td>&quot;daily&quot;</td><td>&quot;grb2&quot;</td></tr></tbody></table></div>"
      ],
      "text/plain": [
       "shape: (91, 5)\n",
       "┌────────┬─────┬────────────┬───────┬──────┐\n",
       "│ a      ┆ b   ┆ c          ┆ d     ┆ e    │\n",
       "│ ---    ┆ --- ┆ ---        ┆ ---   ┆ ---  │\n",
       "│ str    ┆ str ┆ str        ┆ str   ┆ str  │\n",
       "╞════════╪═════╪════════════╪═══════╪══════╡\n",
       "│ chi200 ┆ 01  ┆ 2024122906 ┆ daily ┆ grb2 │\n",
       "│ chi850 ┆ 01  ┆ 2024122906 ┆ daily ┆ grb2 │\n",
       "│ cprat  ┆ 01  ┆ 2024122906 ┆ daily ┆ grb2 │\n",
       "│ csdlf  ┆ 01  ┆ 2024122906 ┆ daily ┆ grb2 │\n",
       "│ csdsf  ┆ 01  ┆ 2024122906 ┆ daily ┆ grb2 │\n",
       "│ …      ┆ …   ┆ …          ┆ …     ┆ …    │\n",
       "│ z200   ┆ 01  ┆ 2024122906 ┆ daily ┆ grb2 │\n",
       "│ z500   ┆ 01  ┆ 2024122906 ┆ daily ┆ grb2 │\n",
       "│ z700   ┆ 01  ┆ 2024122906 ┆ daily ┆ grb2 │\n",
       "│ z850   ┆ 01  ┆ 2024122906 ┆ daily ┆ grb2 │\n",
       "│ z1000  ┆ 01  ┆ 2024122906 ┆ daily ┆ grb2 │\n",
       "└────────┴─────┴────────────┴───────┴──────┘"
      ]
     },
     "execution_count": 50,
     "metadata": {},
     "output_type": "execute_result"
    }
   ],
   "source": [
    "a = df.select(pl.col(\"filename\").str.split(\".\")).select(\n",
    "    a=pl.col(\"filename\")\n",
    "    .list.slice(0, pl.col(\"filename\").list.len() - 4)\n",
    "    .list.join(\".\"),\n",
    "    b=pl.col(\"filename\").list.get(-4),\n",
    "    c=pl.col(\"filename\").list.get(-3),\n",
    "    d=pl.col(\"filename\").list.get(-2),\n",
    "    e=pl.col(\"filename\").list.get(-1),\n",
    ")\n",
    "a"
   ]
  },
  {
   "cell_type": "code",
   "execution_count": 59,
   "metadata": {},
   "outputs": [
    {
     "name": "stdout",
     "output_type": "stream",
     "text": [
      "a ['chi200' 'chi850' 'cprat' 'csdlf' 'csdsf' 'csusf' 'dlwsfc' 'dswsfc'\n",
      " 'gflux' 'icecon' 'icethk' 'ipv450' 'ipv550' 'ipv650' 'lhtfl' 'nddsf'\n",
      " 'ocndt10c' 'ocndt15c' 'ocndt2.5c' 'ocndt20c' 'ocndt25c' 'ocndt28c'\n",
      " 'ocndt5c' 'ocnheat' 'ocnmld' 'ocnsal15' 'ocnsal5' 'ocnsild' 'ocnslh'\n",
      " 'ocnsst' 'ocnt15' 'ocntchp' 'ocnu15' 'ocnu5' 'ocnv15' 'ocnv5' 'ocnvv55'\n",
      " 'prate' 'pressfc' 'prmsl' 'psi200' 'psi850' 'pwat' 'q2m' 'q500' 'q700'\n",
      " 'q850' 'q925' 'runoff' 'shtfl' 'snohf' 'soilm1' 'soilm2' 'soilm3'\n",
      " 'soilm4' 'soilt1' 't1000' 't2' 't200' 't250' 't50' 't500' 't700' 't850'\n",
      " 'tcdcclm' 'tmax' 'tmin' 'tmp2m' 'tmphy1' 'tmpsfc' 'ulwsfc' 'ulwtoa'\n",
      " 'uswsfc' 'uswtoa' 'vddsf' 'vvel500' 'weasd' 'wnd1000' 'wnd10m' 'wnd200'\n",
      " 'wnd250' 'wnd500' 'wnd700' 'wnd850' 'wnd925' 'wndstrs' 'z1000' 'z200'\n",
      " 'z500' 'z700' 'z850']\n",
      "b ['01']\n",
      "c ['2024122906']\n",
      "d ['daily']\n",
      "e ['grb2']\n"
     ]
    }
   ],
   "source": [
    "for i in a.columns:\n",
    "    print(i, a[i].unique().sort().to_numpy())\n"
   ]
  },
  {
   "cell_type": "code",
   "execution_count": 61,
   "metadata": {},
   "outputs": [
    {
     "data": {
      "text/plain": [
       "['chi200',\n",
       " 'chi850',\n",
       " 'cprat',\n",
       " 'csdlf',\n",
       " 'csdsf',\n",
       " 'csusf',\n",
       " 'dlwsfc',\n",
       " 'dswsfc',\n",
       " 'gflux',\n",
       " 'icecon',\n",
       " 'icethk',\n",
       " 'ipv450',\n",
       " 'ipv550',\n",
       " 'ipv650',\n",
       " 'lhtfl',\n",
       " 'nddsf',\n",
       " 'ocndt10c',\n",
       " 'ocndt15c',\n",
       " 'ocndt2.5c',\n",
       " 'ocndt20c',\n",
       " 'ocndt25c',\n",
       " 'ocndt28c',\n",
       " 'ocndt5c',\n",
       " 'ocnheat',\n",
       " 'ocnmld',\n",
       " 'ocnsal15',\n",
       " 'ocnsal5',\n",
       " 'ocnsild',\n",
       " 'ocnslh',\n",
       " 'ocnsst',\n",
       " 'ocnt15',\n",
       " 'ocntchp',\n",
       " 'ocnu15',\n",
       " 'ocnu5',\n",
       " 'ocnv15',\n",
       " 'ocnv5',\n",
       " 'ocnvv55',\n",
       " 'prate',\n",
       " 'pressfc',\n",
       " 'prmsl',\n",
       " 'psi200',\n",
       " 'psi850',\n",
       " 'pwat',\n",
       " 'q2m',\n",
       " 'q500',\n",
       " 'q700',\n",
       " 'q850',\n",
       " 'q925',\n",
       " 'runoff',\n",
       " 'shtfl',\n",
       " 'snohf',\n",
       " 'soilm1',\n",
       " 'soilm2',\n",
       " 'soilm3',\n",
       " 'soilm4',\n",
       " 'soilt1',\n",
       " 't1000',\n",
       " 't2',\n",
       " 't200',\n",
       " 't250',\n",
       " 't50',\n",
       " 't500',\n",
       " 't700',\n",
       " 't850',\n",
       " 'tcdcclm',\n",
       " 'tmax',\n",
       " 'tmin',\n",
       " 'tmp2m',\n",
       " 'tmphy1',\n",
       " 'tmpsfc',\n",
       " 'ulwsfc',\n",
       " 'ulwtoa',\n",
       " 'uswsfc',\n",
       " 'uswtoa',\n",
       " 'vddsf',\n",
       " 'vvel500',\n",
       " 'weasd',\n",
       " 'wnd1000',\n",
       " 'wnd10m',\n",
       " 'wnd200',\n",
       " 'wnd250',\n",
       " 'wnd500',\n",
       " 'wnd700',\n",
       " 'wnd850',\n",
       " 'wnd925',\n",
       " 'wndstrs',\n",
       " 'z1000',\n",
       " 'z200',\n",
       " 'z500',\n",
       " 'z700',\n",
       " 'z850']"
      ]
     },
     "execution_count": 61,
     "metadata": {},
     "output_type": "execute_result"
    }
   ],
   "source": [
    "a[\"a\"].unique().sort().to_list()"
   ]
  }
 ],
 "metadata": {
  "kernelspec": {
   "display_name": "herbie-dev",
   "language": "python",
   "name": "python3"
  },
  "language_info": {
   "codemirror_mode": {
    "name": "ipython",
    "version": 3
   },
   "file_extension": ".py",
   "mimetype": "text/x-python",
   "name": "python",
   "nbconvert_exporter": "python",
   "pygments_lexer": "ipython3",
   "version": "3.12.2"
  }
 },
 "nbformat": 4,
 "nbformat_minor": 2
}
